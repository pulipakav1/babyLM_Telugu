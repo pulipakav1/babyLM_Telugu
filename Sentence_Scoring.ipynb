{
  "nbformat": 4,
  "nbformat_minor": 0,
  "metadata": {
    "colab": {
      "provenance": []
    },
    "kernelspec": {
      "name": "python3",
      "display_name": "Python 3"
    },
    "language_info": {
      "name": "python"
    }
  },
  "cells": [
    {
      "cell_type": "code",
      "execution_count": null,
      "metadata": {
        "colab": {
          "base_uri": "https://localhost:8080/"
        },
        "id": "pESeHYejCBv5",
        "outputId": "9135c41d-0864-42b3-bf09-586e6e6dcdaf"
      },
      "outputs": [
        {
          "output_type": "stream",
          "name": "stdout",
          "text": [
            "Loaded 447213 sentences.\n",
            "Prepared 447213 curriculum-sorted sentences.\n"
          ]
        }
      ],
      "source": [
        "import pandas as pd\n",
        "import re\n",
        "from collections import Counter\n",
        "\n",
        "# Load the main Telugu dataset\n",
        "df = pd.read_csv('/content/curriculum_learning_telugu_1M.csv')\n",
        "sentences = df['sentence'].tolist()\n",
        "print(f\"Loaded {len(sentences)} sentences.\")\n",
        "\n",
        "# Count word frequencies\n",
        "word_freq = Counter()\n",
        "for sent in sentences:\n",
        "    words = re.findall(r'\\w+', sent)\n",
        "    word_freq.update(words)\n",
        "\n",
        "# Define rare words\n",
        "rare_threshold = 50\n",
        "rare_words = {word for word, freq in word_freq.items() if freq < rare_threshold}\n",
        "\n",
        "# Score sentences\n",
        "scores = []\n",
        "for sent in sentences:\n",
        "    words = re.findall(r'\\w+', sent)\n",
        "    length = len(words)\n",
        "    rare_count = sum(1 for w in words if w in rare_words)\n",
        "    score = length + rare_count\n",
        "    scores.append(score)\n",
        "\n",
        "# Attach scores and sort\n",
        "df['score'] = scores\n",
        "df_sorted = df.sort_values('score')\n",
        "sorted_sentences = df_sorted['sentence'].tolist()\n",
        "\n",
        "# Just keeping sorted_sentences in memory (no saving)\n",
        "print(f\"Prepared {len(sorted_sentences)} curriculum-sorted sentences.\")\n"
      ]
    },
    {
      "cell_type": "code",
      "source": [
        "# Save sorted_sentences to a text file\n",
        "with open('/content/curriculum_sorted.txt', 'w', encoding='utf-8') as f:\n",
        "    for sentence in sorted_sentences:\n",
        "        f.write(sentence + \"\\n\")\n",
        "print(\"Saved curriculum_sorted.txt\")"
      ],
      "metadata": {
        "colab": {
          "base_uri": "https://localhost:8080/"
        },
        "id": "K7gTbKg_CIAG",
        "outputId": "c7bb3c0c-6160-4ee3-a7ed-4bc978d52847"
      },
      "execution_count": null,
      "outputs": [
        {
          "output_type": "stream",
          "name": "stdout",
          "text": [
            "Saved curriculum_sorted.txt\n"
          ]
        }
      ]
    },
    {
      "cell_type": "code",
      "source": [],
      "metadata": {
        "id": "QytRsxJvDlXW"
      },
      "execution_count": null,
      "outputs": []
    }
  ]
}